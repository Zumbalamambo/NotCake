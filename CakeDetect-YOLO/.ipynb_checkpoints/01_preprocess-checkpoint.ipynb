{
 "cells": [
  {
   "cell_type": "code",
   "execution_count": 1,
   "metadata": {},
   "outputs": [],
   "source": [
    "import os\n",
    "import numpy as np\n",
    "from PIL import Image"
   ]
  },
  {
   "cell_type": "code",
   "execution_count": null,
   "metadata": {},
   "outputs": [],
   "source": [
    "# Things to do:\n",
    "# Read in an image\n",
    "# Change image size\n",
    "# Change the file name to cake-01.jpg, cake-02.jpg, cake-02.jpg, etc.\n",
    "# TODO make it a script where you specify the raw file directory, output directory"
   ]
  },
  {
   "cell_type": "code",
   "execution_count": 51,
   "metadata": {},
   "outputs": [],
   "source": [
    "# Things to include in argpars\n",
    "inDir = './CAKE/imgs/'\n",
    "outDir = './CAKE/imgs_mod/'\n",
    "\n",
    "\n",
    "# Add to config file\n",
    "height = 400 \n",
    "width = 400"
   ]
  },
  {
   "cell_type": "code",
   "execution_count": 43,
   "metadata": {},
   "outputs": [
    {
     "name": "stdout",
     "output_type": "stream",
     "text": [
      "Reading in ./CAKE/imgs/00000000.jpg...\n"
     ]
    }
   ],
   "source": [
    "# Check if output directory exists [do this once]\n",
    "if not os.path.exists(outDir):\n",
    "    os.mkdir(outDir)\n",
    "\n",
    "## For loop going through entire directory starts here: ##\n",
    "# Read in directory.\n",
    "inFile = '00000000.jpg'\n",
    "file = os.path.join(inDir, inFile)\n",
    "print(\"Reading in {}...\".format(os.path.split(file)[-1]))\n",
    "\n",
    "\n",
    "# Create output file name\n",
    "file_num = os.path.split(file)[-1].split('.')[0]\n",
    "outfile = os.path.join(outDir, 'cake_'+ file_num + '.jpg')\n",
    "\n",
    "# Check that output file does not exist in directory\n"
   ]
  },
  {
   "cell_type": "code",
   "execution_count": 56,
   "metadata": {},
   "outputs": [],
   "source": [
    "im = Image.open(file)\n",
    "im = im.resize((height, width))\n",
    "im.save(outfile, \"JPEG\")"
   ]
  },
  {
   "cell_type": "code",
   "execution_count": null,
   "metadata": {},
   "outputs": [],
   "source": []
  },
  {
   "cell_type": "code",
   "execution_count": 57,
   "metadata": {},
   "outputs": [],
   "source": [
    "# # Define a maximum size. Then, compute a resize ratio by \n",
    "# # taking min(maxwidth/width, maxheight/height).\n",
    "\n",
    "# # The proper size is oldsize*ratio.\n",
    "\n",
    "# # There is of course also a library method to do this: the method Image.thumbnail.\n",
    "# # Below is an (edited) example from the PIL documentation.\n",
    "\n",
    "# import os, sys\n",
    "# #import Image\n",
    "\n",
    "# size = 128, 128\n",
    "\n",
    "# for infile in sys.argv[1:]:\n",
    "#     print(infile)\n",
    "#     outfile = os.path.splitext(infile)[0] + \".thumbnail\"\n",
    "#     if infile != outfile:\n",
    "#         try:\n",
    "#             im = Image.open(infile)\n",
    "#             im.thumbnail(size, Image.ANTIALIAS)\n",
    "#             im.save(outfile, \"JPEG\")\n",
    "#         except IOError:\n",
    "#             print \"cannot create thumbnail for '%s'\" % infile"
   ]
  }
 ],
 "metadata": {
  "kernelspec": {
   "display_name": "Python 3",
   "language": "python",
   "name": "python3"
  },
  "language_info": {
   "codemirror_mode": {
    "name": "ipython",
    "version": 3
   },
   "file_extension": ".py",
   "mimetype": "text/x-python",
   "name": "python",
   "nbconvert_exporter": "python",
   "pygments_lexer": "ipython3",
   "version": "3.6.3"
  }
 },
 "nbformat": 4,
 "nbformat_minor": 4
}
